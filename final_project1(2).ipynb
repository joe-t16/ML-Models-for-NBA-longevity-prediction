{
 "cells": [
  {
   "cell_type": "code",
   "execution_count": 1,
   "id": "6e0a754b",
   "metadata": {},
   "outputs": [],
   "source": [
    "import pandas as pd\n",
    "import matplotlib.pyplot as plt\n",
    "import seaborn as sns\n",
    "from sklearn import preprocessing\n",
    "from sklearn.model_selection import train_test_split\n",
    "from sklearn.linear_model import LogisticRegression\n",
    "from sklearn.metrics import accuracy_score,confusion_matrix\n",
    "from sklearn.ensemble import RandomForestRegressor, RandomForestClassifier\n",
    "from sklearn.ensemble import GradientBoostingClassifier\n",
    "pd.pandas.set_option('display.max_columns',None)\n"
   ]
  },
  {
   "cell_type": "code",
   "execution_count": 2,
   "id": "c754c4c1",
   "metadata": {},
   "outputs": [],
   "source": [
    "# (1000,100) --> PCA --> (1000,10)\n",
    "# advantages:\n",
    "#     - the 10 components capture the principal components (capture most of the variance)\n",
    "#     - for algorithms that calculate distance: KNN, Kmeans, lower dimmensional space outputs better results. "
   ]
  },
  {
   "cell_type": "code",
   "execution_count": 3,
   "id": "d0482d88",
   "metadata": {},
   "outputs": [],
   "source": [
    "df = pd.read_csv(\"nba_logreg.csv\")"
   ]
  },
  {
   "cell_type": "code",
   "execution_count": 4,
   "id": "a4bab17a",
   "metadata": {},
   "outputs": [
    {
     "data": {
      "text/plain": [
       "(1340, 21)"
      ]
     },
     "execution_count": 4,
     "metadata": {},
     "output_type": "execute_result"
    }
   ],
   "source": [
    "df.shape"
   ]
  },
  {
   "cell_type": "code",
   "execution_count": 5,
   "id": "446f306d",
   "metadata": {},
   "outputs": [
    {
     "name": "stdout",
     "output_type": "stream",
     "text": [
      "<class 'pandas.core.frame.DataFrame'>\n",
      "RangeIndex: 1340 entries, 0 to 1339\n",
      "Data columns (total 21 columns):\n",
      " #   Column       Non-Null Count  Dtype  \n",
      "---  ------       --------------  -----  \n",
      " 0   Name         1340 non-null   object \n",
      " 1   GP           1340 non-null   int64  \n",
      " 2   MIN          1340 non-null   float64\n",
      " 3   PTS          1340 non-null   float64\n",
      " 4   FGM          1340 non-null   float64\n",
      " 5   FGA          1340 non-null   float64\n",
      " 6   FG%          1340 non-null   float64\n",
      " 7   3P Made      1340 non-null   float64\n",
      " 8   3PA          1340 non-null   float64\n",
      " 9   3P%          1329 non-null   float64\n",
      " 10  FTM          1340 non-null   float64\n",
      " 11  FTA          1340 non-null   float64\n",
      " 12  FT%          1340 non-null   float64\n",
      " 13  OREB         1340 non-null   float64\n",
      " 14  DREB         1340 non-null   float64\n",
      " 15  REB          1340 non-null   float64\n",
      " 16  AST          1340 non-null   float64\n",
      " 17  STL          1340 non-null   float64\n",
      " 18  BLK          1340 non-null   float64\n",
      " 19  TOV          1340 non-null   float64\n",
      " 20  TARGET_5Yrs  1340 non-null   float64\n",
      "dtypes: float64(19), int64(1), object(1)\n",
      "memory usage: 220.0+ KB\n"
     ]
    }
   ],
   "source": [
    "df.info()"
   ]
  },
  {
   "cell_type": "code",
   "execution_count": 6,
   "id": "099bc810",
   "metadata": {},
   "outputs": [
    {
     "data": {
      "text/html": [
       "<div>\n",
       "<style scoped>\n",
       "    .dataframe tbody tr th:only-of-type {\n",
       "        vertical-align: middle;\n",
       "    }\n",
       "\n",
       "    .dataframe tbody tr th {\n",
       "        vertical-align: top;\n",
       "    }\n",
       "\n",
       "    .dataframe thead th {\n",
       "        text-align: right;\n",
       "    }\n",
       "</style>\n",
       "<table border=\"1\" class=\"dataframe\">\n",
       "  <thead>\n",
       "    <tr style=\"text-align: right;\">\n",
       "      <th></th>\n",
       "      <th>GP</th>\n",
       "      <th>MIN</th>\n",
       "      <th>PTS</th>\n",
       "      <th>FGM</th>\n",
       "      <th>FGA</th>\n",
       "      <th>FG%</th>\n",
       "      <th>3P Made</th>\n",
       "      <th>3PA</th>\n",
       "      <th>3P%</th>\n",
       "      <th>FTM</th>\n",
       "      <th>FTA</th>\n",
       "      <th>FT%</th>\n",
       "      <th>OREB</th>\n",
       "      <th>DREB</th>\n",
       "      <th>REB</th>\n",
       "      <th>AST</th>\n",
       "      <th>STL</th>\n",
       "      <th>BLK</th>\n",
       "      <th>TOV</th>\n",
       "      <th>TARGET_5Yrs</th>\n",
       "    </tr>\n",
       "  </thead>\n",
       "  <tbody>\n",
       "    <tr>\n",
       "      <th>count</th>\n",
       "      <td>1340.000000</td>\n",
       "      <td>1340.000000</td>\n",
       "      <td>1340.000000</td>\n",
       "      <td>1340.000000</td>\n",
       "      <td>1340.000000</td>\n",
       "      <td>1340.000000</td>\n",
       "      <td>1340.000000</td>\n",
       "      <td>1340.000000</td>\n",
       "      <td>1329.000000</td>\n",
       "      <td>1340.000000</td>\n",
       "      <td>1340.000000</td>\n",
       "      <td>1340.000000</td>\n",
       "      <td>1340.000000</td>\n",
       "      <td>1340.000000</td>\n",
       "      <td>1340.000000</td>\n",
       "      <td>1340.000000</td>\n",
       "      <td>1340.000000</td>\n",
       "      <td>1340.000000</td>\n",
       "      <td>1340.000000</td>\n",
       "      <td>1340.000000</td>\n",
       "    </tr>\n",
       "    <tr>\n",
       "      <th>mean</th>\n",
       "      <td>60.414179</td>\n",
       "      <td>17.624627</td>\n",
       "      <td>6.801493</td>\n",
       "      <td>2.629104</td>\n",
       "      <td>5.885299</td>\n",
       "      <td>44.169403</td>\n",
       "      <td>0.247612</td>\n",
       "      <td>0.779179</td>\n",
       "      <td>19.308126</td>\n",
       "      <td>1.297687</td>\n",
       "      <td>1.821940</td>\n",
       "      <td>70.300299</td>\n",
       "      <td>1.009403</td>\n",
       "      <td>2.025746</td>\n",
       "      <td>3.034478</td>\n",
       "      <td>1.550522</td>\n",
       "      <td>0.618507</td>\n",
       "      <td>0.368582</td>\n",
       "      <td>1.193582</td>\n",
       "      <td>0.620149</td>\n",
       "    </tr>\n",
       "    <tr>\n",
       "      <th>std</th>\n",
       "      <td>17.433992</td>\n",
       "      <td>8.307964</td>\n",
       "      <td>4.357545</td>\n",
       "      <td>1.683555</td>\n",
       "      <td>3.593488</td>\n",
       "      <td>6.137679</td>\n",
       "      <td>0.383688</td>\n",
       "      <td>1.061847</td>\n",
       "      <td>16.022916</td>\n",
       "      <td>0.987246</td>\n",
       "      <td>1.322984</td>\n",
       "      <td>10.578479</td>\n",
       "      <td>0.777119</td>\n",
       "      <td>1.360008</td>\n",
       "      <td>2.057774</td>\n",
       "      <td>1.471169</td>\n",
       "      <td>0.409759</td>\n",
       "      <td>0.429049</td>\n",
       "      <td>0.722541</td>\n",
       "      <td>0.485531</td>\n",
       "    </tr>\n",
       "    <tr>\n",
       "      <th>min</th>\n",
       "      <td>11.000000</td>\n",
       "      <td>3.100000</td>\n",
       "      <td>0.700000</td>\n",
       "      <td>0.300000</td>\n",
       "      <td>0.800000</td>\n",
       "      <td>23.800000</td>\n",
       "      <td>0.000000</td>\n",
       "      <td>0.000000</td>\n",
       "      <td>0.000000</td>\n",
       "      <td>0.000000</td>\n",
       "      <td>0.000000</td>\n",
       "      <td>0.000000</td>\n",
       "      <td>0.000000</td>\n",
       "      <td>0.200000</td>\n",
       "      <td>0.300000</td>\n",
       "      <td>0.000000</td>\n",
       "      <td>0.000000</td>\n",
       "      <td>0.000000</td>\n",
       "      <td>0.100000</td>\n",
       "      <td>0.000000</td>\n",
       "    </tr>\n",
       "    <tr>\n",
       "      <th>25%</th>\n",
       "      <td>47.000000</td>\n",
       "      <td>10.875000</td>\n",
       "      <td>3.700000</td>\n",
       "      <td>1.400000</td>\n",
       "      <td>3.300000</td>\n",
       "      <td>40.200000</td>\n",
       "      <td>0.000000</td>\n",
       "      <td>0.000000</td>\n",
       "      <td>0.000000</td>\n",
       "      <td>0.600000</td>\n",
       "      <td>0.900000</td>\n",
       "      <td>64.700000</td>\n",
       "      <td>0.400000</td>\n",
       "      <td>1.000000</td>\n",
       "      <td>1.500000</td>\n",
       "      <td>0.600000</td>\n",
       "      <td>0.300000</td>\n",
       "      <td>0.100000</td>\n",
       "      <td>0.700000</td>\n",
       "      <td>0.000000</td>\n",
       "    </tr>\n",
       "    <tr>\n",
       "      <th>50%</th>\n",
       "      <td>63.000000</td>\n",
       "      <td>16.100000</td>\n",
       "      <td>5.550000</td>\n",
       "      <td>2.100000</td>\n",
       "      <td>4.800000</td>\n",
       "      <td>44.100000</td>\n",
       "      <td>0.100000</td>\n",
       "      <td>0.300000</td>\n",
       "      <td>22.400000</td>\n",
       "      <td>1.000000</td>\n",
       "      <td>1.500000</td>\n",
       "      <td>71.250000</td>\n",
       "      <td>0.800000</td>\n",
       "      <td>1.700000</td>\n",
       "      <td>2.500000</td>\n",
       "      <td>1.100000</td>\n",
       "      <td>0.500000</td>\n",
       "      <td>0.200000</td>\n",
       "      <td>1.000000</td>\n",
       "      <td>1.000000</td>\n",
       "    </tr>\n",
       "    <tr>\n",
       "      <th>75%</th>\n",
       "      <td>77.000000</td>\n",
       "      <td>22.900000</td>\n",
       "      <td>8.800000</td>\n",
       "      <td>3.400000</td>\n",
       "      <td>7.500000</td>\n",
       "      <td>47.900000</td>\n",
       "      <td>0.400000</td>\n",
       "      <td>1.200000</td>\n",
       "      <td>32.500000</td>\n",
       "      <td>1.600000</td>\n",
       "      <td>2.300000</td>\n",
       "      <td>77.600000</td>\n",
       "      <td>1.400000</td>\n",
       "      <td>2.600000</td>\n",
       "      <td>4.000000</td>\n",
       "      <td>2.000000</td>\n",
       "      <td>0.800000</td>\n",
       "      <td>0.500000</td>\n",
       "      <td>1.500000</td>\n",
       "      <td>1.000000</td>\n",
       "    </tr>\n",
       "    <tr>\n",
       "      <th>max</th>\n",
       "      <td>82.000000</td>\n",
       "      <td>40.900000</td>\n",
       "      <td>28.200000</td>\n",
       "      <td>10.200000</td>\n",
       "      <td>19.800000</td>\n",
       "      <td>73.700000</td>\n",
       "      <td>2.300000</td>\n",
       "      <td>6.500000</td>\n",
       "      <td>100.000000</td>\n",
       "      <td>7.700000</td>\n",
       "      <td>10.200000</td>\n",
       "      <td>100.000000</td>\n",
       "      <td>5.300000</td>\n",
       "      <td>9.600000</td>\n",
       "      <td>13.900000</td>\n",
       "      <td>10.600000</td>\n",
       "      <td>2.500000</td>\n",
       "      <td>3.900000</td>\n",
       "      <td>4.400000</td>\n",
       "      <td>1.000000</td>\n",
       "    </tr>\n",
       "  </tbody>\n",
       "</table>\n",
       "</div>"
      ],
      "text/plain": [
       "                GP          MIN          PTS          FGM          FGA  \\\n",
       "count  1340.000000  1340.000000  1340.000000  1340.000000  1340.000000   \n",
       "mean     60.414179    17.624627     6.801493     2.629104     5.885299   \n",
       "std      17.433992     8.307964     4.357545     1.683555     3.593488   \n",
       "min      11.000000     3.100000     0.700000     0.300000     0.800000   \n",
       "25%      47.000000    10.875000     3.700000     1.400000     3.300000   \n",
       "50%      63.000000    16.100000     5.550000     2.100000     4.800000   \n",
       "75%      77.000000    22.900000     8.800000     3.400000     7.500000   \n",
       "max      82.000000    40.900000    28.200000    10.200000    19.800000   \n",
       "\n",
       "               FG%      3P Made          3PA          3P%          FTM  \\\n",
       "count  1340.000000  1340.000000  1340.000000  1329.000000  1340.000000   \n",
       "mean     44.169403     0.247612     0.779179    19.308126     1.297687   \n",
       "std       6.137679     0.383688     1.061847    16.022916     0.987246   \n",
       "min      23.800000     0.000000     0.000000     0.000000     0.000000   \n",
       "25%      40.200000     0.000000     0.000000     0.000000     0.600000   \n",
       "50%      44.100000     0.100000     0.300000    22.400000     1.000000   \n",
       "75%      47.900000     0.400000     1.200000    32.500000     1.600000   \n",
       "max      73.700000     2.300000     6.500000   100.000000     7.700000   \n",
       "\n",
       "               FTA          FT%         OREB         DREB          REB  \\\n",
       "count  1340.000000  1340.000000  1340.000000  1340.000000  1340.000000   \n",
       "mean      1.821940    70.300299     1.009403     2.025746     3.034478   \n",
       "std       1.322984    10.578479     0.777119     1.360008     2.057774   \n",
       "min       0.000000     0.000000     0.000000     0.200000     0.300000   \n",
       "25%       0.900000    64.700000     0.400000     1.000000     1.500000   \n",
       "50%       1.500000    71.250000     0.800000     1.700000     2.500000   \n",
       "75%       2.300000    77.600000     1.400000     2.600000     4.000000   \n",
       "max      10.200000   100.000000     5.300000     9.600000    13.900000   \n",
       "\n",
       "               AST          STL          BLK          TOV  TARGET_5Yrs  \n",
       "count  1340.000000  1340.000000  1340.000000  1340.000000  1340.000000  \n",
       "mean      1.550522     0.618507     0.368582     1.193582     0.620149  \n",
       "std       1.471169     0.409759     0.429049     0.722541     0.485531  \n",
       "min       0.000000     0.000000     0.000000     0.100000     0.000000  \n",
       "25%       0.600000     0.300000     0.100000     0.700000     0.000000  \n",
       "50%       1.100000     0.500000     0.200000     1.000000     1.000000  \n",
       "75%       2.000000     0.800000     0.500000     1.500000     1.000000  \n",
       "max      10.600000     2.500000     3.900000     4.400000     1.000000  "
      ]
     },
     "execution_count": 6,
     "metadata": {},
     "output_type": "execute_result"
    }
   ],
   "source": [
    "df.describe()"
   ]
  },
  {
   "cell_type": "code",
   "execution_count": 7,
   "id": "391df8d4",
   "metadata": {},
   "outputs": [
    {
     "data": {
      "text/plain": [
       "array([0., 1.])"
      ]
     },
     "execution_count": 7,
     "metadata": {},
     "output_type": "execute_result"
    }
   ],
   "source": [
    "df['TARGET_5Yrs'].unique()"
   ]
  },
  {
   "cell_type": "code",
   "execution_count": 8,
   "id": "1b2a9b2e",
   "metadata": {
    "scrolled": true
   },
   "outputs": [
    {
     "data": {
      "text/plain": [
       "1.0    831\n",
       "0.0    509\n",
       "Name: TARGET_5Yrs, dtype: int64"
      ]
     },
     "execution_count": 8,
     "metadata": {},
     "output_type": "execute_result"
    }
   ],
   "source": [
    "df['TARGET_5Yrs'].value_counts()"
   ]
  },
  {
   "cell_type": "code",
   "execution_count": 9,
   "id": "a92e2a4c",
   "metadata": {},
   "outputs": [
    {
     "data": {
      "text/plain": [
       "Name            0\n",
       "GP              0\n",
       "MIN             0\n",
       "PTS             0\n",
       "FGM             0\n",
       "FGA             0\n",
       "FG%             0\n",
       "3P Made         0\n",
       "3PA             0\n",
       "3P%            11\n",
       "FTM             0\n",
       "FTA             0\n",
       "FT%             0\n",
       "OREB            0\n",
       "DREB            0\n",
       "REB             0\n",
       "AST             0\n",
       "STL             0\n",
       "BLK             0\n",
       "TOV             0\n",
       "TARGET_5Yrs     0\n",
       "dtype: int64"
      ]
     },
     "execution_count": 9,
     "metadata": {},
     "output_type": "execute_result"
    }
   ],
   "source": [
    "## Explore if there are missing values\n",
    "df.isnull().sum()"
   ]
  },
  {
   "cell_type": "code",
   "execution_count": 10,
   "id": "0adac5f3",
   "metadata": {},
   "outputs": [],
   "source": [
    "#3pt% has missing valuess\n",
    "#zscore approach = feature -mean/std\n",
    "import warnings\n",
    "warnings.filterwarnings(\"ignore\")"
   ]
  },
  {
   "cell_type": "code",
   "execution_count": 11,
   "id": "d1ff09c0",
   "metadata": {},
   "outputs": [],
   "source": [
    "## replace missing values by median\n",
    "df.fillna(df.median(),inplace=True)"
   ]
  },
  {
   "cell_type": "code",
   "execution_count": 12,
   "id": "06156305",
   "metadata": {},
   "outputs": [
    {
     "data": {
      "text/plain": [
       "Name           0\n",
       "GP             0\n",
       "MIN            0\n",
       "PTS            0\n",
       "FGM            0\n",
       "FGA            0\n",
       "FG%            0\n",
       "3P Made        0\n",
       "3PA            0\n",
       "3P%            0\n",
       "FTM            0\n",
       "FTA            0\n",
       "FT%            0\n",
       "OREB           0\n",
       "DREB           0\n",
       "REB            0\n",
       "AST            0\n",
       "STL            0\n",
       "BLK            0\n",
       "TOV            0\n",
       "TARGET_5Yrs    0\n",
       "dtype: int64"
      ]
     },
     "execution_count": 12,
     "metadata": {},
     "output_type": "execute_result"
    }
   ],
   "source": [
    "df.isnull().sum()"
   ]
  },
  {
   "cell_type": "code",
   "execution_count": 13,
   "id": "d2ce3702",
   "metadata": {},
   "outputs": [],
   "source": [
    "# Feature Scale: transform the features to a different scale:\n",
    "#     1) Normalization: transforms features to a range 0 - 1\n",
    "#     2) Standarization: transforms features to a Gaussian distribution with mean=0 and std=1\n",
    "\n",
    "# When you scale the dataset, the model converges faster ---> better results"
   ]
  },
  {
   "cell_type": "markdown",
   "id": "cfd82311",
   "metadata": {},
   "source": [
    "### Boxplot for outliers and  Dropping Outliers"
   ]
  },
  {
   "cell_type": "code",
   "execution_count": 14,
   "id": "2615e7c4",
   "metadata": {},
   "outputs": [
    {
     "data": {
      "text/plain": [
       "<AxesSubplot:>"
      ]
     },
     "execution_count": 14,
     "metadata": {},
     "output_type": "execute_result"
    },
    {
     "data": {
      "image/png": "[encoded data removed]",
      "text/plain": [
       "<Figure size 1440x720 with 1 Axes>"
      ]
     },
     "metadata": {},
     "output_type": "display_data"
    }
   ],
   "source": [
    "sns.set(rc={'figure.figsize':(20,10)})\n",
    "sns.boxplot(data = df)"
   ]
  },
  {
   "cell_type": "code",
   "execution_count": 15,
   "id": "e2c0ccb0",
   "metadata": {
    "scrolled": true
   },
   "outputs": [
    {
     "data": {
      "text/plain": [
       "(1340, 21)"
      ]
     },
     "execution_count": 15,
     "metadata": {},
     "output_type": "execute_result"
    }
   ],
   "source": [
    "df.shape"
   ]
  },
  {
   "cell_type": "code",
   "execution_count": null,
   "id": "24222416",
   "metadata": {},
   "outputs": [],
   "source": [
    "# df_woOutliers = df.drop(columns=['Name'],axis=1)\n",
    "# for i in df_woOutliers.columns:\n",
    "#     upper_limit = df_woOutliers[i].mean() + 3*df_woOutliers[i].std()\n",
    "#     lower_limit = df_woOutliers[i].mean() - 3*df_woOutliers[i].std()\n",
    "#     #print(upper_limit)\n",
    "#     df_woOutliers = df_woOutliers[(df[i] < upper_limit) & (df_woOutliers[i] > lower_limit)]\n",
    "# df_woOutliers.shape"
   ]
  },
  {
   "cell_type": "code",
   "execution_count": null,
   "id": "ba3e1d23",
   "metadata": {},
   "outputs": [],
   "source": []
  },
  {
   "cell_type": "markdown",
   "id": "de36563f",
   "metadata": {},
   "source": [
    "## Feature Scaling"
   ]
  },
  {
   "cell_type": "code",
   "execution_count": 17,
   "id": "6fe4d3c4",
   "metadata": {},
   "outputs": [
    {
     "data": {
      "text/plain": [
       "((1340, 19), (1340,))"
      ]
     },
     "execution_count": 17,
     "metadata": {},
     "output_type": "execute_result"
    }
   ],
   "source": [
    "X=df.drop(columns=['Name','TARGET_5Yrs'],axis=1)\n",
    "y=df['TARGET_5Yrs']\n",
    "X.shape, y.shape"
   ]
  },
  {
   "cell_type": "code",
   "execution_count": 18,
   "id": "a87a6d1e",
   "metadata": {},
   "outputs": [],
   "source": [
    "# X=df_woOutliers\n",
    "# y=df_woOutliers['TARGET_5Yrs']\n",
    "# df_woOutliers.info()"
   ]
  },
  {
   "cell_type": "code",
   "execution_count": 19,
   "id": "260b547e",
   "metadata": {},
   "outputs": [
    {
     "data": {
      "text/plain": [
       "((1340, 19), (1340,))"
      ]
     },
     "execution_count": 19,
     "metadata": {},
     "output_type": "execute_result"
    }
   ],
   "source": [
    "from sklearn.preprocessing import StandardScaler\n",
    "scaler=StandardScaler()\n",
    "X_scaled=pd.DataFrame(scaler.fit_transform(X),columns=X.columns)\n",
    "X_scaled.shape,y.shape"
   ]
  },
  {
   "cell_type": "markdown",
   "id": "26249d41",
   "metadata": {},
   "source": [
    "### Handling Oversampling for imbalance in Target Variable"
   ]
  },
  {
   "cell_type": "code",
   "execution_count": null,
   "id": "295fcc14",
   "metadata": {},
   "outputs": [],
   "source": [
    "## if you oversample/undersample you only have to apply to the train set"
   ]
  },
  {
   "cell_type": "code",
   "execution_count": 20,
   "id": "d757ee26",
   "metadata": {},
   "outputs": [],
   "source": [
    "from imblearn.over_sampling import RandomOverSampler\n",
    "ros = RandomOverSampler(sampling_strategy=\"not majority\") # String\n",
    "X_res, y_res = ros.fit_resample(X_scaled, y)"
   ]
  },
  {
   "cell_type": "code",
   "execution_count": 21,
   "id": "9d133a2d",
   "metadata": {},
   "outputs": [
    {
     "data": {
      "text/plain": [
       "(1.0    831\n",
       " 0.0    509\n",
       " Name: TARGET_5Yrs, dtype: int64,\n",
       " 0.0    831\n",
       " 1.0    831\n",
       " Name: TARGET_5Yrs, dtype: int64)"
      ]
     },
     "execution_count": 21,
     "metadata": {},
     "output_type": "execute_result"
    }
   ],
   "source": [
    "y.value_counts(),y_res.value_counts()"
   ]
  },
  {
   "cell_type": "code",
   "execution_count": 22,
   "id": "1d975f3b",
   "metadata": {},
   "outputs": [
    {
     "data": {
      "text/plain": [
       "(<AxesSubplot:ylabel='TARGET_5Yrs'>,)"
      ]
     },
     "execution_count": 22,
     "metadata": {},
     "output_type": "execute_result"
    },
    {
     "data": {
      "image/png": "[encoded data removed]",
      "text/plain": [
       "<Figure size 1440x720 with 1 Axes>"
      ]
     },
     "metadata": {},
     "output_type": "display_data"
    }
   ],
   "source": [
    "y_res.value_counts().plot.pie(autopct='%.2f'),"
   ]
  },
  {
   "cell_type": "code",
   "execution_count": 23,
   "id": "7507fa96",
   "metadata": {},
   "outputs": [
    {
     "data": {
      "text/plain": [
       "<AxesSubplot:ylabel='TARGET_5Yrs'>"
      ]
     },
     "execution_count": 23,
     "metadata": {},
     "output_type": "execute_result"
    },
    {
     "data": {
      "image/png": "[encoded data removed]",
      "text/plain": [
       "<Figure size 1440x720 with 1 Axes>"
      ]
     },
     "metadata": {},
     "output_type": "display_data"
    }
   ],
   "source": [
    " y.value_counts().plot.pie(autopct='%.2f')"
   ]
  },
  {
   "cell_type": "code",
   "execution_count": null,
   "id": "b9981992",
   "metadata": {},
   "outputs": [],
   "source": [
    "# -1std to +1std: 68% of the dat\n",
    "# -2std to +2std: 95% of the dat    \n",
    "# -3std to +3std: 99% of the da"
   ]
  },
  {
   "cell_type": "code",
   "execution_count": null,
   "id": "75cde76c",
   "metadata": {},
   "outputs": [],
   "source": [
    "#df=X_scaled.copy()"
   ]
  },
  {
   "cell_type": "code",
   "execution_count": 24,
   "id": "a19b59de",
   "metadata": {},
   "outputs": [
    {
     "data": {
      "text/plain": [
       "<AxesSubplot:>"
      ]
     },
     "execution_count": 24,
     "metadata": {},
     "output_type": "execute_result"
    },
    {
     "data": {
      "image/png": "[encoded data removed]",
      "text/plain": [
       "<Figure size 1440x720 with 2 Axes>"
      ]
     },
     "metadata": {},
     "output_type": "display_data"
    }
   ],
   "source": [
    "\n",
    "sns.heatmap(df.corr(), annot = True, fmt='.2g',cmap= 'coolwarm')"
   ]
  },
  {
   "cell_type": "code",
   "execution_count": null,
   "id": "0c7e8561",
   "metadata": {},
   "outputs": [],
   "source": [
    "## Feature selection:\n",
    "# 1) Get the correlation betwee each feature and the target variable. Select only the featues that have a high correlation with the target variable\n",
    "# 2) Remove multi colinearity. Get the correlation between features, and keep only one of two highly correlated features.\n",
    "\n",
    "# There are some ML algorithms which are affected by multicolinearity"
   ]
  },
  {
   "cell_type": "code",
   "execution_count": 25,
   "id": "5f6b72c8",
   "metadata": {
    "scrolled": true
   },
   "outputs": [],
   "source": [
    "# sns.heatmap(df_woOutliers.corr(), annot = True, fmt='.2g',cmap= 'coolwarm')"
   ]
  },
  {
   "cell_type": "markdown",
   "id": "9c51575a",
   "metadata": {},
   "source": [
    "### 1. Logistic Regression"
   ]
  },
  {
   "cell_type": "code",
   "execution_count": 2,
   "id": "d745fc6a",
   "metadata": {
    "collapsed": true
   },
   "outputs": [
    {
     "ename": "NameError",
     "evalue": "name 'train_test_split' is not defined",
     "output_type": "error",
     "traceback": [
      "\u001b[1;31m---------------------------------------------------------------------------\u001b[0m",
      "\u001b[1;31mNameError\u001b[0m                                 Traceback (most recent call last)",
      "Input \u001b[1;32mIn [2]\u001b[0m, in \u001b[0;36m<cell line: 1>\u001b[1;34m()\u001b[0m\n\u001b[1;32m----> 1\u001b[0m X_train, X_test, y_train, y_test \u001b[38;5;241m=\u001b[39m \u001b[43mtrain_test_split\u001b[49m(X_scaled,y, test_size \u001b[38;5;241m=\u001b[39m \u001b[38;5;241m0.2\u001b[39m, random_state \u001b[38;5;241m=\u001b[39m \u001b[38;5;241m42\u001b[39m)\n",
      "\u001b[1;31mNameError\u001b[0m: name 'train_test_split' is not defined"
     ]
    }
   ],
   "source": [
    "X_train, X_test, y_train, y_test = train_test_split(X_scaled,y, test_size = 0.2, random_state = 42)"
   ]
  },
  {
   "cell_type": "code",
   "execution_count": 33,
   "id": "5065b5d8",
   "metadata": {},
   "outputs": [
    {
     "data": {
      "text/plain": [
       "(0.7388059701492538,\n",
       " array([[ 54,  45],\n",
       "        [ 25, 144]]))"
      ]
     },
     "execution_count": 33,
     "metadata": {},
     "output_type": "execute_result"
    }
   ],
   "source": [
    "LogReg = LogisticRegression()\n",
    "LogReg.fit(X_train,y_train)\n",
    "y_pred = LogReg.predict(X_test)\n",
    "cm = confusion_matrix(y_test, y_pred)\n",
    "accuracy = accuracy_score(y_test, y_pred)\n",
    "accuracy,cm"
   ]
  },
  {
   "cell_type": "markdown",
   "id": "3da44989",
   "metadata": {},
   "source": [
    "### 2. Random Forest"
   ]
  },
  {
   "cell_type": "code",
   "execution_count": 34,
   "id": "d1d8faf3",
   "metadata": {},
   "outputs": [],
   "source": [
    "from sklearn.datasets import make_classification"
   ]
  },
  {
   "cell_type": "code",
   "execution_count": 35,
   "id": "ba44687a",
   "metadata": {},
   "outputs": [],
   "source": [
    "from sklearn.ensemble import RandomForestClassifier"
   ]
  },
  {
   "cell_type": "code",
   "execution_count": 36,
   "id": "448ee9f0",
   "metadata": {},
   "outputs": [
    {
     "data": {
      "text/plain": [
       "0.7014925373134329"
      ]
     },
     "execution_count": 36,
     "metadata": {},
     "output_type": "execute_result"
    }
   ],
   "source": [
    "rfc = RandomForestClassifier(n_estimators=300) \n",
    "rfc.fit(X_train,y_train)\n",
    "y_pred2 = rfc.predict(X_test)\n",
    "cm = confusion_matrix(y_test, y_pred2)\n",
    "accuracy = accuracy_score(y_test, y_pred2)\n",
    "accuracy"
   ]
  },
  {
   "cell_type": "markdown",
   "id": "e5d69293",
   "metadata": {},
   "source": [
    "#### Hyperparameter Tuning"
   ]
  },
  {
   "cell_type": "code",
   "execution_count": 37,
   "id": "794ef568",
   "metadata": {},
   "outputs": [],
   "source": [
    "from sklearn.model_selection import GridSearchCV\n",
    "import numpy as np\n",
    "import time\n",
    "\n",
    "n_estimators_range = [50,100,200,500]\n",
    "max_depth_range=[5,10,20]\n",
    "min_samples_split_range = [5,10,20,50]\n",
    "param_grid = dict(max_depth=max_depth_range, min_samples_split=min_samples_split_range,n_estimators=n_estimators_range)\n",
    "\n",
    "rf = RandomForestClassifier()\n",
    "grid = GridSearchCV(estimator=rf, param_grid=param_grid, cv=5)"
   ]
  },
  {
   "cell_type": "code",
   "execution_count": 38,
   "id": "0f6c43b2",
   "metadata": {},
   "outputs": [
    {
     "data": {
      "text/plain": [
       "GridSearchCV(cv=5, estimator=RandomForestClassifier(),\n",
       "             param_grid={'max_depth': [5, 10, 20],\n",
       "                         'min_samples_split': [5, 10, 20, 50],\n",
       "                         'n_estimators': [50, 100, 200, 500]})"
      ]
     },
     "execution_count": 38,
     "metadata": {},
     "output_type": "execute_result"
    }
   ],
   "source": [
    "grid.fit(X_train, y_train)\n",
    "# print(\"--- %s seconds ---\" % (time.time() - start_time))"
   ]
  },
  {
   "cell_type": "code",
   "execution_count": 39,
   "id": "59827c13",
   "metadata": {},
   "outputs": [
    {
     "name": "stdout",
     "output_type": "stream",
     "text": [
      "The best parameters are {'max_depth': 10, 'min_samples_split': 50, 'n_estimators': 100} with a score of 0.69\n"
     ]
    }
   ],
   "source": [
    "print(\"The best parameters are %s with a score of %0.2f\"\n",
    "      % (grid.best_params_, grid.best_score_))"
   ]
  },
  {
   "cell_type": "code",
   "execution_count": 41,
   "id": "db26201d",
   "metadata": {},
   "outputs": [
    {
     "data": {
      "text/plain": [
       "0.7164179104477612"
      ]
     },
     "execution_count": 41,
     "metadata": {},
     "output_type": "execute_result"
    }
   ],
   "source": [
    "rfc = RandomForestClassifier(n_estimators = 100, max_depth =10,min_samples_split=10) \n",
    "rfc.fit(X_train,y_train)\n",
    "y_pred2 = rfc.predict(X_test)\n",
    "cm = confusion_matrix(y_test, y_pred2)\n",
    "accuracy = accuracy_score(y_test, y_pred2)\n",
    "accuracy"
   ]
  },
  {
   "cell_type": "markdown",
   "id": "37c7e929",
   "metadata": {},
   "source": [
    "### 3. Neural Network"
   ]
  },
  {
   "cell_type": "code",
   "execution_count": null,
   "id": "38ee8db6",
   "metadata": {},
   "outputs": [],
   "source": [
    "# pip install tensorflow"
   ]
  },
  {
   "cell_type": "code",
   "execution_count": 42,
   "id": "0c657dc2",
   "metadata": {},
   "outputs": [],
   "source": [
    "from tensorflow.keras.models import Sequential\n",
    "from tensorflow.keras.layers import Dense,Dropout\n",
    "import tensorflow as tf"
   ]
  },
  {
   "cell_type": "code",
   "execution_count": 43,
   "id": "71ec4042",
   "metadata": {},
   "outputs": [],
   "source": [
    "# X_train, X_test, y_train, y_test = train_test_split(X_scaled,y, test_size = 0.2, random_state = 42)"
   ]
  },
  {
   "cell_type": "code",
   "execution_count": 44,
   "id": "0f9bd97e",
   "metadata": {},
   "outputs": [],
   "source": [
    "X_new=X_scaled[['GP','PTS','3P%','REB','STL','AST','TOV']]"
   ]
  },
  {
   "cell_type": "code",
   "execution_count": 45,
   "id": "fde36070",
   "metadata": {},
   "outputs": [],
   "source": [
    "X_train, X_test, y_train, y_test = train_test_split(X_scaled,y, test_size = 0.2, random_state = 42)"
   ]
  },
  {
   "cell_type": "code",
   "execution_count": 46,
   "id": "4d6233b5",
   "metadata": {},
   "outputs": [],
   "source": [
    "model=Sequential()\n",
    "model.add(Dense(64,input_dim=X_train.shape[1],activation='relu'))\n",
    "model.add(Dropout(0.2))\n",
    "model.add(Dense(32,activation='relu'))\n",
    "model.add(Dropout(0.2))\n",
    "model.add(Dense(16,activation='relu'))\n",
    "model.add(Dropout(0.2))\n",
    "model.add(Dense(1,activation='sigmoid'))"
   ]
  },
  {
   "cell_type": "code",
   "execution_count": 47,
   "id": "d104c442",
   "metadata": {},
   "outputs": [],
   "source": [
    "# activation function: include non linear behavior to the model\n",
    "# - relu: hidden layers --> transforms negative values to 0\n",
    "# - sigmoid: output layer when we have binary classification. it will output a probability 0-1"
   ]
  },
  {
   "cell_type": "code",
   "execution_count": 48,
   "id": "08199de5",
   "metadata": {},
   "outputs": [],
   "source": [
    "# a common patten for the number of layers multiple of a power of 2\n",
    "# 64 = 2^5\n",
    "# 32 = 2^4"
   ]
  },
  {
   "cell_type": "code",
   "execution_count": 49,
   "id": "b617158c",
   "metadata": {},
   "outputs": [
    {
     "name": "stdout",
     "output_type": "stream",
     "text": [
      "Model: \"sequential\"\n",
      "_________________________________________________________________\n",
      " Layer (type)                Output Shape              Param #   \n",
      "=================================================================\n",
      " dense (Dense)               (None, 64)                1280      \n",
      "                                                                 \n",
      " dropout (Dropout)           (None, 64)                0         \n",
      "                                                                 \n",
      " dense_1 (Dense)             (None, 32)                2080      \n",
      "                                                                 \n",
      " dropout_1 (Dropout)         (None, 32)                0         \n",
      "                                                                 \n",
      " dense_2 (Dense)             (None, 16)                528       \n",
      "                                                                 \n",
      " dropout_2 (Dropout)         (None, 16)                0         \n",
      "                                                                 \n",
      " dense_3 (Dense)             (None, 1)                 17        \n",
      "                                                                 \n",
      "=================================================================\n",
      "Total params: 3,905\n",
      "Trainable params: 3,905\n",
      "Non-trainable params: 0\n",
      "_________________________________________________________________\n"
     ]
    }
   ],
   "source": [
    "model.summary()"
   ]
  },
  {
   "cell_type": "code",
   "execution_count": 50,
   "id": "684124ad",
   "metadata": {},
   "outputs": [],
   "source": [
    "model.compile(optimizer='adam',loss='binary_crossentropy',metrics=['accuracy'])"
   ]
  },
  {
   "cell_type": "code",
   "execution_count": 51,
   "id": "a40fbc98",
   "metadata": {},
   "outputs": [],
   "source": [
    "# early stop --> set a rule that stops when we meet certain condition\n",
    "# val_accuracy>0.75 --> stop"
   ]
  },
  {
   "cell_type": "code",
   "execution_count": 52,
   "id": "acbd9f5d",
   "metadata": {},
   "outputs": [],
   "source": [
    "class MyThresholdCallback(tf.keras.callbacks.Callback):\n",
    "    def __init__(self, threshold):\n",
    "        super(MyThresholdCallback, self).__init__() \n",
    "        self.threshold = threshold\n",
    "\n",
    "    def on_epoch_end(self, epoch, logs=None): \n",
    "        val_acc = logs[\"val_accuracy\"]\n",
    "        if val_acc >= self.threshold:\n",
    "            self.model.stop_training = True\n",
    "            \n",
    "my_callback = MyThresholdCallback(threshold=0.75)"
   ]
  },
  {
   "cell_type": "code",
   "execution_count": 53,
   "id": "2bb9e7b5",
   "metadata": {},
   "outputs": [
    {
     "name": "stdout",
     "output_type": "stream",
     "text": [
      "Epoch 1/50\n",
      "9/9 [==============================] - 1s 26ms/step - loss: 0.8488 - accuracy: 0.3834 - val_loss: 0.7457 - val_accuracy: 0.3694\n",
      "Epoch 2/50\n",
      "9/9 [==============================] - 0s 5ms/step - loss: 0.7274 - accuracy: 0.4328 - val_loss: 0.6852 - val_accuracy: 0.5224\n",
      "Epoch 3/50\n",
      "9/9 [==============================] - 0s 6ms/step - loss: 0.6808 - accuracy: 0.5354 - val_loss: 0.6399 - val_accuracy: 0.6978\n",
      "Epoch 4/50\n",
      "9/9 [==============================] - 0s 5ms/step - loss: 0.6628 - accuracy: 0.6026 - val_loss: 0.6057 - val_accuracy: 0.7090\n",
      "Epoch 5/50\n",
      "9/9 [==============================] - 0s 5ms/step - loss: 0.6250 - accuracy: 0.6576 - val_loss: 0.5785 - val_accuracy: 0.7090\n",
      "Epoch 6/50\n",
      "9/9 [==============================] - 0s 5ms/step - loss: 0.6223 - accuracy: 0.6679 - val_loss: 0.5613 - val_accuracy: 0.7090\n",
      "Epoch 7/50\n",
      "9/9 [==============================] - 0s 6ms/step - loss: 0.6110 - accuracy: 0.6791 - val_loss: 0.5486 - val_accuracy: 0.7164\n",
      "Epoch 8/50\n",
      "9/9 [==============================] - 0s 6ms/step - loss: 0.6113 - accuracy: 0.6838 - val_loss: 0.5406 - val_accuracy: 0.7201\n",
      "Epoch 9/50\n",
      "9/9 [==============================] - 0s 6ms/step - loss: 0.6092 - accuracy: 0.6819 - val_loss: 0.5383 - val_accuracy: 0.7276\n",
      "Epoch 10/50\n",
      "9/9 [==============================] - 0s 6ms/step - loss: 0.6030 - accuracy: 0.6931 - val_loss: 0.5376 - val_accuracy: 0.7313\n",
      "Epoch 11/50\n",
      "9/9 [==============================] - 0s 6ms/step - loss: 0.5934 - accuracy: 0.7006 - val_loss: 0.5353 - val_accuracy: 0.7425\n",
      "Epoch 12/50\n",
      "9/9 [==============================] - 0s 6ms/step - loss: 0.5990 - accuracy: 0.7006 - val_loss: 0.5338 - val_accuracy: 0.7388\n",
      "Epoch 13/50\n",
      "9/9 [==============================] - 0s 6ms/step - loss: 0.5893 - accuracy: 0.7127 - val_loss: 0.5338 - val_accuracy: 0.7351\n",
      "Epoch 14/50\n",
      "9/9 [==============================] - 0s 6ms/step - loss: 0.5791 - accuracy: 0.7080 - val_loss: 0.5350 - val_accuracy: 0.7351\n",
      "Epoch 15/50\n",
      "9/9 [==============================] - 0s 5ms/step - loss: 0.5800 - accuracy: 0.7043 - val_loss: 0.5338 - val_accuracy: 0.7388\n",
      "Epoch 16/50\n",
      "9/9 [==============================] - 0s 5ms/step - loss: 0.5809 - accuracy: 0.6940 - val_loss: 0.5306 - val_accuracy: 0.7351\n",
      "Epoch 17/50\n",
      "9/9 [==============================] - 0s 6ms/step - loss: 0.5866 - accuracy: 0.7080 - val_loss: 0.5284 - val_accuracy: 0.7388\n",
      "Epoch 18/50\n",
      "9/9 [==============================] - 0s 6ms/step - loss: 0.5851 - accuracy: 0.7006 - val_loss: 0.5286 - val_accuracy: 0.7351\n",
      "Epoch 19/50\n",
      "9/9 [==============================] - 0s 8ms/step - loss: 0.5847 - accuracy: 0.6950 - val_loss: 0.5293 - val_accuracy: 0.7425\n",
      "Epoch 20/50\n",
      "9/9 [==============================] - 0s 5ms/step - loss: 0.5678 - accuracy: 0.7062 - val_loss: 0.5276 - val_accuracy: 0.7388\n",
      "Epoch 21/50\n",
      "9/9 [==============================] - 0s 6ms/step - loss: 0.5784 - accuracy: 0.6922 - val_loss: 0.5262 - val_accuracy: 0.7500\n"
     ]
    },
    {
     "data": {
      "text/plain": [
       "<keras.callbacks.History at 0x7ff4e0119150>"
      ]
     },
     "execution_count": 53,
     "metadata": {},
     "output_type": "execute_result"
    }
   ],
   "source": [
    "model.fit(X_train,y_train,validation_data=(X_test,y_test),epochs=50,batch_size=128,callbacks=[my_callback])"
   ]
  },
  {
   "cell_type": "code",
   "execution_count": 54,
   "id": "6a0172e4",
   "metadata": {},
   "outputs": [
    {
     "name": "stdout",
     "output_type": "stream",
     "text": [
      "9/9 [==============================] - 0s 1ms/step - loss: 0.5262 - accuracy: 0.7500\n"
     ]
    }
   ],
   "source": [
    "test_loss,test_acc=model.evaluate(X_test,y_test)"
   ]
  },
  {
   "cell_type": "code",
   "execution_count": 55,
   "id": "c2174183",
   "metadata": {},
   "outputs": [
    {
     "data": {
      "text/plain": [
       "0.75"
      ]
     },
     "execution_count": 55,
     "metadata": {},
     "output_type": "execute_result"
    }
   ],
   "source": [
    "test_acc"
   ]
  },
  {
   "cell_type": "code",
   "execution_count": 56,
   "id": "637bce09",
   "metadata": {},
   "outputs": [],
   "source": [
    "## Unsupervised learning\n",
    "# Cluster X_train --> we get cluster for each variable\n",
    "# Compare such cluster assignment with the target variable (ground truth)\n",
    "\n",
    "\n",
    "## Anomaly detection\n",
    "# you build two clusters with their known labels. \n",
    "# You have a new player and you compare the distance with the center of clusters, if it is closer to cluster 1, then it is 1, if closer to 0 then it is 0\n"
   ]
  },
  {
   "cell_type": "code",
   "execution_count": 57,
   "id": "d4c98a01",
   "metadata": {},
   "outputs": [],
   "source": [
    "# pip install xgboost"
   ]
  },
  {
   "cell_type": "markdown",
   "id": "40f46ca8",
   "metadata": {},
   "source": [
    "### 4. Gradient Boost"
   ]
  },
  {
   "cell_type": "code",
   "execution_count": 58,
   "id": "390afd56",
   "metadata": {},
   "outputs": [],
   "source": [
    "from sklearn.ensemble import GradientBoostingClassifier"
   ]
  },
  {
   "cell_type": "code",
   "execution_count": 59,
   "id": "71ae2502",
   "metadata": {},
   "outputs": [
    {
     "data": {
      "text/plain": [
       "0.7052238805970149"
      ]
     },
     "execution_count": 59,
     "metadata": {},
     "output_type": "execute_result"
    }
   ],
   "source": [
    "gbc = GradientBoostingClassifier(n_estimators=200) \n",
    "gbc.fit(X_train,y_train)\n",
    "y_pred2 = gbc.predict(X_test)\n",
    "cm = confusion_matrix(y_test, y_pred2)\n",
    "accuracy = accuracy_score(y_test, y_pred2)\n",
    "accuracy"
   ]
  },
  {
   "cell_type": "markdown",
   "id": "d7bd63ba",
   "metadata": {},
   "source": [
    "### 5. XGBoost"
   ]
  },
  {
   "cell_type": "code",
   "execution_count": 60,
   "id": "90f0e0ab",
   "metadata": {},
   "outputs": [
    {
     "name": "stdout",
     "output_type": "stream",
     "text": [
      "[20:04:45] WARNING: /Users/travis/build/dmlc/xgboost/src/objective/regression_obj.cu:171: reg:linear is now deprecated in favor of reg:squarederror.\n"
     ]
    }
   ],
   "source": [
    "import xgboost as xgb\n",
    "xg_reg = xgb.XGBClassifier(objective ='reg:linear', colsample_bytree = 0.3, learning_rate = 0.1,\n",
    "                max_depth = 5, alpha = 10, n_estimators = 100)\n",
    "xg_reg.fit(X_train,y_train)\n",
    "y_pred3 = xg_reg.predict(X_test)"
   ]
  },
  {
   "cell_type": "code",
   "execution_count": 61,
   "id": "cc51b326",
   "metadata": {},
   "outputs": [
    {
     "data": {
      "text/plain": [
       "0.7388059701492538"
      ]
     },
     "execution_count": 61,
     "metadata": {},
     "output_type": "execute_result"
    }
   ],
   "source": [
    "cm = confusion_matrix(y_test, y_pred3)\n",
    "accuracy = accuracy_score(y_test, y_pred3)\n",
    "accuracy"
   ]
  },
  {
   "cell_type": "markdown",
   "id": "cce09b91",
   "metadata": {},
   "source": [
    "### 6. Oversampling + Random Forest"
   ]
  },
  {
   "cell_type": "code",
   "execution_count": 62,
   "id": "8f956354",
   "metadata": {},
   "outputs": [],
   "source": [
    "from imblearn.over_sampling import RandomOverSampler\n",
    "ros = RandomOverSampler(sampling_strategy=\"not majority\") # String\n",
    "X_train_over, y_train_over = ros.fit_resample(X_train, y_train)"
   ]
  },
  {
   "cell_type": "code",
   "execution_count": 63,
   "id": "e000666f",
   "metadata": {},
   "outputs": [
    {
     "data": {
      "text/plain": [
       "1.0    662\n",
       "0.0    410\n",
       "Name: TARGET_5Yrs, dtype: int64"
      ]
     },
     "execution_count": 63,
     "metadata": {},
     "output_type": "execute_result"
    }
   ],
   "source": [
    "y_train.value_counts()"
   ]
  },
  {
   "cell_type": "code",
   "execution_count": 64,
   "id": "242f8988",
   "metadata": {},
   "outputs": [
    {
     "data": {
      "text/plain": [
       "0.0    662\n",
       "1.0    662\n",
       "Name: TARGET_5Yrs, dtype: int64"
      ]
     },
     "execution_count": 64,
     "metadata": {},
     "output_type": "execute_result"
    }
   ],
   "source": [
    "y_train_over.value_counts()"
   ]
  },
  {
   "cell_type": "code",
   "execution_count": 65,
   "id": "cb1c8af0",
   "metadata": {},
   "outputs": [
    {
     "data": {
      "text/plain": [
       "0.7201492537313433"
      ]
     },
     "execution_count": 65,
     "metadata": {},
     "output_type": "execute_result"
    }
   ],
   "source": [
    "rfc = RandomForestClassifier(n_estimators=300) \n",
    "rfc.fit(X_train_over,y_train_over)\n",
    "y_pred2 = rfc.predict(X_test)\n",
    "cm = confusion_matrix(y_test, y_pred2)\n",
    "accuracy = accuracy_score(y_test, y_pred2)\n",
    "accuracy"
   ]
  },
  {
   "cell_type": "code",
   "execution_count": 1,
   "id": "3ae74c0c",
   "metadata": {},
   "outputs": [],
   "source": [
    "#plot_confusion_matrix(rfc, X_test, y_test);"
   ]
  },
  {
   "cell_type": "markdown",
   "id": "47d22ce8",
   "metadata": {},
   "source": [
    "### 7. Oversampling + Neural Network"
   ]
  },
  {
   "cell_type": "code",
   "execution_count": 66,
   "id": "f63655d5",
   "metadata": {},
   "outputs": [],
   "source": [
    "from tensorflow.keras.models import Sequential\n",
    "from tensorflow.keras.layers import Dense,Dropout"
   ]
  },
  {
   "cell_type": "code",
   "execution_count": null,
   "id": "c5c2eea5",
   "metadata": {},
   "outputs": [],
   "source": [
    "import tensorflow as tf"
   ]
  },
  {
   "cell_type": "code",
   "execution_count": 67,
   "id": "bbf12076",
   "metadata": {},
   "outputs": [],
   "source": [
    "# X_train, X_test, y_train, y_test = train_test_split(X_scaled,y, test_size = 0.2, random_state = 42)"
   ]
  },
  {
   "cell_type": "code",
   "execution_count": 68,
   "id": "2d93221c",
   "metadata": {},
   "outputs": [],
   "source": [
    "X_new=X[['GP','PTS','3P%','REB','STL','AST','TOV']]"
   ]
  },
  {
   "cell_type": "code",
   "execution_count": 89,
   "id": "0eb030d3",
   "metadata": {},
   "outputs": [],
   "source": [
    "X_train, X_test, y_train, y_test = train_test_split(X_scaled,y, test_size = 0.2, random_state = 42)"
   ]
  },
  {
   "cell_type": "code",
   "execution_count": 90,
   "id": "1058a639",
   "metadata": {},
   "outputs": [
    {
     "data": {
      "text/plain": [
       "1.0    0.620149\n",
       "0.0    0.379851\n",
       "Name: TARGET_5Yrs, dtype: float64"
      ]
     },
     "execution_count": 90,
     "metadata": {},
     "output_type": "execute_result"
    }
   ],
   "source": [
    "y.value_counts(normalize=True)"
   ]
  },
  {
   "cell_type": "code",
   "execution_count": 91,
   "id": "719913b3",
   "metadata": {},
   "outputs": [
    {
     "data": {
      "text/plain": [
       "1.0    0.617537\n",
       "0.0    0.382463\n",
       "Name: TARGET_5Yrs, dtype: float64"
      ]
     },
     "execution_count": 91,
     "metadata": {},
     "output_type": "execute_result"
    }
   ],
   "source": [
    "y_train.value_counts(normalize=True)"
   ]
  },
  {
   "cell_type": "code",
   "execution_count": 92,
   "id": "ef2d3ea1",
   "metadata": {},
   "outputs": [],
   "source": [
    "from imblearn.over_sampling import RandomOverSampler\n",
    "ros = RandomOverSampler(sampling_strategy=\"not majority\") # String\n",
    "X_train_over, y_train_over = ros.fit_resample(X_train, y_train)"
   ]
  },
  {
   "cell_type": "code",
   "execution_count": 98,
   "id": "c80fbda3",
   "metadata": {},
   "outputs": [],
   "source": [
    "model=Sequential()\n",
    "model.add(Dense(64,input_dim=X_train.shape[1],activation='relu'))\n",
    "model.add(Dropout(0.2))\n",
    "model.add(Dense(32,activation='relu'))\n",
    "model.add(Dropout(0.2))\n",
    "model.add(Dense(16,activation='relu'))\n",
    "model.add(Dropout(0.2))\n",
    "model.add(Dense(1,activation='sigmoid'))"
   ]
  },
  {
   "cell_type": "code",
   "execution_count": 99,
   "id": "4a16aeac",
   "metadata": {},
   "outputs": [
    {
     "name": "stdout",
     "output_type": "stream",
     "text": [
      "Model: \"sequential_4\"\n",
      "_________________________________________________________________\n",
      " Layer (type)                Output Shape              Param #   \n",
      "=================================================================\n",
      " dense_16 (Dense)            (None, 64)                1280      \n",
      "                                                                 \n",
      " dropout_12 (Dropout)        (None, 64)                0         \n",
      "                                                                 \n",
      " dense_17 (Dense)            (None, 32)                2080      \n",
      "                                                                 \n",
      " dropout_13 (Dropout)        (None, 32)                0         \n",
      "                                                                 \n",
      " dense_18 (Dense)            (None, 16)                528       \n",
      "                                                                 \n",
      " dropout_14 (Dropout)        (None, 16)                0         \n",
      "                                                                 \n",
      " dense_19 (Dense)            (None, 1)                 17        \n",
      "                                                                 \n",
      "=================================================================\n",
      "Total params: 3,905\n",
      "Trainable params: 3,905\n",
      "Non-trainable params: 0\n",
      "_________________________________________________________________\n"
     ]
    }
   ],
   "source": [
    "model.summary()"
   ]
  },
  {
   "cell_type": "code",
   "execution_count": 100,
   "id": "a2ccbcb1",
   "metadata": {},
   "outputs": [],
   "source": [
    "model.compile(optimizer='adam',loss='binary_crossentropy',metrics=['accuracy'])"
   ]
  },
  {
   "cell_type": "code",
   "execution_count": 101,
   "id": "f39ec9ac",
   "metadata": {},
   "outputs": [],
   "source": [
    "class MyThresholdCallback(tf.keras.callbacks.Callback):\n",
    "    def __init__(self, threshold):\n",
    "        super(MyThresholdCallback, self).__init__()\n",
    "        self.threshold = threshold\n",
    "\n",
    "    def on_epoch_end(self, epoch, logs=None): \n",
    "        val_acc = logs[\"val_accuracy\"]\n",
    "        if val_acc >= self.threshold:\n",
    "            self.model.stop_training = True\n",
    "            \n",
    "my_callback = MyThresholdCallback(threshold=0.74)"
   ]
  },
  {
   "cell_type": "code",
   "execution_count": 102,
   "id": "6d4bc1d0",
   "metadata": {},
   "outputs": [
    {
     "name": "stdout",
     "output_type": "stream",
     "text": [
      "Epoch 1/50\n",
      "42/42 [==============================] - 1s 5ms/step - loss: 0.6697 - accuracy: 0.5989 - val_loss: 0.5630 - val_accuracy: 0.7127\n",
      "Epoch 2/50\n",
      "42/42 [==============================] - 0s 2ms/step - loss: 0.6214 - accuracy: 0.6669 - val_loss: 0.5683 - val_accuracy: 0.7127\n",
      "Epoch 3/50\n",
      "42/42 [==============================] - 0s 2ms/step - loss: 0.6081 - accuracy: 0.6775 - val_loss: 0.5518 - val_accuracy: 0.7201\n",
      "Epoch 4/50\n",
      "42/42 [==============================] - 0s 2ms/step - loss: 0.6012 - accuracy: 0.6820 - val_loss: 0.5552 - val_accuracy: 0.7239\n",
      "Epoch 5/50\n",
      "42/42 [==============================] - 0s 2ms/step - loss: 0.6004 - accuracy: 0.6903 - val_loss: 0.5665 - val_accuracy: 0.7164\n",
      "Epoch 6/50\n",
      "42/42 [==============================] - 0s 2ms/step - loss: 0.6026 - accuracy: 0.6911 - val_loss: 0.5524 - val_accuracy: 0.7276\n",
      "Epoch 7/50\n",
      "42/42 [==============================] - 0s 2ms/step - loss: 0.5843 - accuracy: 0.7115 - val_loss: 0.5575 - val_accuracy: 0.7201\n",
      "Epoch 8/50\n",
      "42/42 [==============================] - 0s 2ms/step - loss: 0.5927 - accuracy: 0.6767 - val_loss: 0.5581 - val_accuracy: 0.7239\n",
      "Epoch 9/50\n",
      "42/42 [==============================] - 0s 2ms/step - loss: 0.5883 - accuracy: 0.6941 - val_loss: 0.5498 - val_accuracy: 0.7090\n",
      "Epoch 10/50\n",
      "42/42 [==============================] - 0s 2ms/step - loss: 0.5846 - accuracy: 0.6949 - val_loss: 0.5546 - val_accuracy: 0.7127\n",
      "Epoch 11/50\n",
      "42/42 [==============================] - 0s 2ms/step - loss: 0.5731 - accuracy: 0.7047 - val_loss: 0.5480 - val_accuracy: 0.7239\n",
      "Epoch 12/50\n",
      "42/42 [==============================] - 0s 2ms/step - loss: 0.5761 - accuracy: 0.7085 - val_loss: 0.5543 - val_accuracy: 0.7239\n",
      "Epoch 13/50\n",
      "42/42 [==============================] - 0s 2ms/step - loss: 0.5851 - accuracy: 0.6956 - val_loss: 0.5500 - val_accuracy: 0.7164\n",
      "Epoch 14/50\n",
      "42/42 [==============================] - 0s 2ms/step - loss: 0.5804 - accuracy: 0.7032 - val_loss: 0.5515 - val_accuracy: 0.7164\n",
      "Epoch 15/50\n",
      "42/42 [==============================] - 0s 2ms/step - loss: 0.5761 - accuracy: 0.6964 - val_loss: 0.5567 - val_accuracy: 0.7090\n",
      "Epoch 16/50\n",
      "42/42 [==============================] - 0s 3ms/step - loss: 0.5722 - accuracy: 0.7115 - val_loss: 0.5556 - val_accuracy: 0.7201\n",
      "Epoch 17/50\n",
      "42/42 [==============================] - 0s 2ms/step - loss: 0.5716 - accuracy: 0.6986 - val_loss: 0.5489 - val_accuracy: 0.7164\n",
      "Epoch 18/50\n",
      "42/42 [==============================] - 0s 2ms/step - loss: 0.5688 - accuracy: 0.7069 - val_loss: 0.5591 - val_accuracy: 0.7239\n",
      "Epoch 19/50\n",
      "42/42 [==============================] - 0s 3ms/step - loss: 0.5667 - accuracy: 0.7009 - val_loss: 0.5607 - val_accuracy: 0.7239\n",
      "Epoch 20/50\n",
      "42/42 [==============================] - 0s 2ms/step - loss: 0.5731 - accuracy: 0.7077 - val_loss: 0.5561 - val_accuracy: 0.7164\n",
      "Epoch 21/50\n",
      "42/42 [==============================] - 0s 2ms/step - loss: 0.5571 - accuracy: 0.7198 - val_loss: 0.5540 - val_accuracy: 0.7127\n",
      "Epoch 22/50\n",
      "42/42 [==============================] - 0s 2ms/step - loss: 0.5567 - accuracy: 0.7198 - val_loss: 0.5544 - val_accuracy: 0.7201\n",
      "Epoch 23/50\n",
      "42/42 [==============================] - 0s 3ms/step - loss: 0.5550 - accuracy: 0.7296 - val_loss: 0.5721 - val_accuracy: 0.7015\n",
      "Epoch 24/50\n",
      "42/42 [==============================] - 0s 2ms/step - loss: 0.5533 - accuracy: 0.6994 - val_loss: 0.5621 - val_accuracy: 0.7201\n",
      "Epoch 25/50\n",
      "42/42 [==============================] - 0s 2ms/step - loss: 0.5483 - accuracy: 0.7273 - val_loss: 0.5568 - val_accuracy: 0.7201\n",
      "Epoch 26/50\n",
      "42/42 [==============================] - 0s 2ms/step - loss: 0.5528 - accuracy: 0.7115 - val_loss: 0.5667 - val_accuracy: 0.7164\n",
      "Epoch 27/50\n",
      "42/42 [==============================] - 0s 3ms/step - loss: 0.5569 - accuracy: 0.7190 - val_loss: 0.5707 - val_accuracy: 0.7201\n",
      "Epoch 28/50\n",
      "42/42 [==============================] - 0s 2ms/step - loss: 0.5447 - accuracy: 0.7213 - val_loss: 0.5691 - val_accuracy: 0.7090\n",
      "Epoch 29/50\n",
      "42/42 [==============================] - 0s 2ms/step - loss: 0.5521 - accuracy: 0.7349 - val_loss: 0.5652 - val_accuracy: 0.7164\n",
      "Epoch 30/50\n",
      "42/42 [==============================] - 0s 2ms/step - loss: 0.5470 - accuracy: 0.7221 - val_loss: 0.5641 - val_accuracy: 0.7276\n",
      "Epoch 31/50\n",
      "42/42 [==============================] - 0s 2ms/step - loss: 0.5371 - accuracy: 0.7289 - val_loss: 0.5665 - val_accuracy: 0.7313\n",
      "Epoch 32/50\n",
      "42/42 [==============================] - 0s 2ms/step - loss: 0.5302 - accuracy: 0.7417 - val_loss: 0.5741 - val_accuracy: 0.7351\n",
      "Epoch 33/50\n",
      "42/42 [==============================] - 0s 2ms/step - loss: 0.5352 - accuracy: 0.7304 - val_loss: 0.5661 - val_accuracy: 0.7239\n",
      "Epoch 34/50\n",
      "42/42 [==============================] - 0s 2ms/step - loss: 0.5338 - accuracy: 0.7289 - val_loss: 0.5662 - val_accuracy: 0.7351\n",
      "Epoch 35/50\n",
      "42/42 [==============================] - 0s 2ms/step - loss: 0.5347 - accuracy: 0.7304 - val_loss: 0.5724 - val_accuracy: 0.7313\n",
      "Epoch 36/50\n",
      "42/42 [==============================] - 0s 2ms/step - loss: 0.5392 - accuracy: 0.7432 - val_loss: 0.5648 - val_accuracy: 0.7201\n",
      "Epoch 37/50\n",
      "42/42 [==============================] - 0s 2ms/step - loss: 0.5307 - accuracy: 0.7356 - val_loss: 0.5625 - val_accuracy: 0.7276\n",
      "Epoch 38/50\n",
      "42/42 [==============================] - 0s 2ms/step - loss: 0.5395 - accuracy: 0.7296 - val_loss: 0.5757 - val_accuracy: 0.7388\n",
      "Epoch 39/50\n",
      "42/42 [==============================] - 0s 2ms/step - loss: 0.5339 - accuracy: 0.7341 - val_loss: 0.5874 - val_accuracy: 0.7276\n",
      "Epoch 40/50\n",
      "42/42 [==============================] - 0s 2ms/step - loss: 0.5276 - accuracy: 0.7349 - val_loss: 0.5706 - val_accuracy: 0.7351\n",
      "Epoch 41/50\n",
      "42/42 [==============================] - 0s 2ms/step - loss: 0.5275 - accuracy: 0.7243 - val_loss: 0.5691 - val_accuracy: 0.7463\n"
     ]
    },
    {
     "data": {
      "text/plain": [
       "<keras.callbacks.History at 0x7ff4e36de510>"
      ]
     },
     "execution_count": 102,
     "metadata": {},
     "output_type": "execute_result"
    }
   ],
   "source": [
    "model.fit(X_train_over,y_train_over,validation_data=(X_test,y_test),epochs=50,callbacks=[my_callback])"
   ]
  },
  {
   "cell_type": "code",
   "execution_count": 103,
   "id": "85517d7c",
   "metadata": {},
   "outputs": [
    {
     "name": "stdout",
     "output_type": "stream",
     "text": [
      "9/9 [==============================] - 0s 2ms/step - loss: 0.5691 - accuracy: 0.7463\n"
     ]
    }
   ],
   "source": [
    "test_loss,test_acc=model.evaluate(X_test,y_test)"
   ]
  },
  {
   "cell_type": "code",
   "execution_count": 104,
   "id": "91786210",
   "metadata": {},
   "outputs": [
    {
     "data": {
      "text/plain": [
       "0.746268630027771"
      ]
     },
     "execution_count": 104,
     "metadata": {},
     "output_type": "execute_result"
    }
   ],
   "source": [
    "test_acc"
   ]
  },
  {
   "cell_type": "markdown",
   "id": "bb0b957c",
   "metadata": {},
   "source": [
    "### 8. PCA + XGBoost"
   ]
  },
  {
   "cell_type": "code",
   "execution_count": 105,
   "id": "6621618e",
   "metadata": {},
   "outputs": [],
   "source": [
    "from sklearn.decomposition import PCA"
   ]
  },
  {
   "cell_type": "code",
   "execution_count": 106,
   "id": "929be070",
   "metadata": {},
   "outputs": [],
   "source": [
    "pca=PCA(n_components=5)\n",
    "X_train_pca=pca.fit_transform(X_train)\n",
    "X_test_pca=pca.transform(X_test)"
   ]
  },
  {
   "cell_type": "code",
   "execution_count": 107,
   "id": "102ca4a0",
   "metadata": {},
   "outputs": [
    {
     "name": "stdout",
     "output_type": "stream",
     "text": [
      "[20:09:21] WARNING: /Users/travis/build/dmlc/xgboost/src/objective/regression_obj.cu:171: reg:linear is now deprecated in favor of reg:squarederror.\n"
     ]
    }
   ],
   "source": [
    "import xgboost as xgb\n",
    "xg_reg = xgb.XGBClassifier(objective ='reg:linear', colsample_bytree = 0.3, learning_rate = 0.1,\n",
    "                max_depth = 5, alpha = 10, n_estimators = 100)\n",
    "xg_reg.fit(X_train_pca,y_train)\n",
    "y_pred3 = xg_reg.predict(X_test_pca)"
   ]
  },
  {
   "cell_type": "code",
   "execution_count": 108,
   "id": "568b7707",
   "metadata": {},
   "outputs": [
    {
     "data": {
      "text/plain": [
       "0.7350746268656716"
      ]
     },
     "execution_count": 108,
     "metadata": {},
     "output_type": "execute_result"
    }
   ],
   "source": [
    "cm = confusion_matrix(y_test, y_pred3)\n",
    "accuracy = accuracy_score(y_test, y_pred3)\n",
    "accuracy"
   ]
  },
  {
   "cell_type": "code",
   "execution_count": 110,
   "id": "87cd573e",
   "metadata": {},
   "outputs": [],
   "source": [
    "from sklearn.metrics import plot_confusion_matrix"
   ]
  },
  {
   "cell_type": "code",
   "execution_count": 109,
   "id": "65f215a4",
   "metadata": {},
   "outputs": [
    {
     "data": {
      "text/plain": [
       "array([[ 47,  52],\n",
       "       [ 19, 150]])"
      ]
     },
     "execution_count": 109,
     "metadata": {},
     "output_type": "execute_result"
    }
   ],
   "source": [
    "cm"
   ]
  },
  {
   "cell_type": "code",
   "execution_count": null,
   "id": "301e032b",
   "metadata": {},
   "outputs": [],
   "source": [
    "# TN: 47"
   ]
  },
  {
   "cell_type": "markdown",
   "id": "c152c548",
   "metadata": {},
   "source": [
    "### 9. Feature selection"
   ]
  },
  {
   "cell_type": "markdown",
   "id": "8b5ed5ee",
   "metadata": {},
   "source": [
    "Select features based on the correlation with the target variable"
   ]
  },
  {
   "cell_type": "code",
   "execution_count": 118,
   "id": "f12915ce",
   "metadata": {},
   "outputs": [
    {
     "data": {
      "text/html": [
       "<div>\n",
       "<style scoped>\n",
       "    .dataframe tbody tr th:only-of-type {\n",
       "        vertical-align: middle;\n",
       "    }\n",
       "\n",
       "    .dataframe tbody tr th {\n",
       "        vertical-align: top;\n",
       "    }\n",
       "\n",
       "    .dataframe thead th {\n",
       "        text-align: right;\n",
       "    }\n",
       "</style>\n",
       "<table border=\"1\" class=\"dataframe\">\n",
       "  <thead>\n",
       "    <tr style=\"text-align: right;\">\n",
       "      <th></th>\n",
       "      <th>TARGET_5Yrs</th>\n",
       "    </tr>\n",
       "  </thead>\n",
       "  <tbody>\n",
       "    <tr>\n",
       "      <th>GP</th>\n",
       "      <td>0.396833</td>\n",
       "    </tr>\n",
       "    <tr>\n",
       "      <th>MIN</th>\n",
       "      <td>0.317805</td>\n",
       "    </tr>\n",
       "    <tr>\n",
       "      <th>PTS</th>\n",
       "      <td>0.315981</td>\n",
       "    </tr>\n",
       "    <tr>\n",
       "      <th>FGM</th>\n",
       "      <td>0.317594</td>\n",
       "    </tr>\n",
       "    <tr>\n",
       "      <th>FGA</th>\n",
       "      <td>0.292660</td>\n",
       "    </tr>\n",
       "    <tr>\n",
       "      <th>FG%</th>\n",
       "      <td>0.227134</td>\n",
       "    </tr>\n",
       "    <tr>\n",
       "      <th>3P Made</th>\n",
       "      <td>0.036619</td>\n",
       "    </tr>\n",
       "    <tr>\n",
       "      <th>3PA</th>\n",
       "      <td>0.018110</td>\n",
       "    </tr>\n",
       "    <tr>\n",
       "      <th>3P%</th>\n",
       "      <td>-0.003937</td>\n",
       "    </tr>\n",
       "    <tr>\n",
       "      <th>FTM</th>\n",
       "      <td>0.296841</td>\n",
       "    </tr>\n",
       "    <tr>\n",
       "      <th>FTA</th>\n",
       "      <td>0.296089</td>\n",
       "    </tr>\n",
       "    <tr>\n",
       "      <th>FT%</th>\n",
       "      <td>0.106706</td>\n",
       "    </tr>\n",
       "    <tr>\n",
       "      <th>OREB</th>\n",
       "      <td>0.293307</td>\n",
       "    </tr>\n",
       "    <tr>\n",
       "      <th>DREB</th>\n",
       "      <td>0.284677</td>\n",
       "    </tr>\n",
       "    <tr>\n",
       "      <th>REB</th>\n",
       "      <td>0.299406</td>\n",
       "    </tr>\n",
       "    <tr>\n",
       "      <th>AST</th>\n",
       "      <td>0.175353</td>\n",
       "    </tr>\n",
       "    <tr>\n",
       "      <th>STL</th>\n",
       "      <td>0.229811</td>\n",
       "    </tr>\n",
       "    <tr>\n",
       "      <th>BLK</th>\n",
       "      <td>0.210114</td>\n",
       "    </tr>\n",
       "    <tr>\n",
       "      <th>TOV</th>\n",
       "      <td>0.272348</td>\n",
       "    </tr>\n",
       "    <tr>\n",
       "      <th>TARGET_5Yrs</th>\n",
       "      <td>1.000000</td>\n",
       "    </tr>\n",
       "  </tbody>\n",
       "</table>\n",
       "</div>"
      ],
      "text/plain": [
       "             TARGET_5Yrs\n",
       "GP              0.396833\n",
       "MIN             0.317805\n",
       "PTS             0.315981\n",
       "FGM             0.317594\n",
       "FGA             0.292660\n",
       "FG%             0.227134\n",
       "3P Made         0.036619\n",
       "3PA             0.018110\n",
       "3P%            -0.003937\n",
       "FTM             0.296841\n",
       "FTA             0.296089\n",
       "FT%             0.106706\n",
       "OREB            0.293307\n",
       "DREB            0.284677\n",
       "REB             0.299406\n",
       "AST             0.175353\n",
       "STL             0.229811\n",
       "BLK             0.210114\n",
       "TOV             0.272348\n",
       "TARGET_5Yrs     1.000000"
      ]
     },
     "execution_count": 118,
     "metadata": {},
     "output_type": "execute_result"
    }
   ],
   "source": [
    "output=df.corr()[['TARGET_5Yrs']]\n",
    "output"
   ]
  },
  {
   "cell_type": "code",
   "execution_count": 3,
   "id": "4ce17421",
   "metadata": {},
   "outputs": [],
   "source": [
    "#output.query(\"TARGET_5Yrs>0.27\") ## filter data based on a condition"
   ]
  },
  {
   "cell_type": "code",
   "execution_count": 131,
   "id": "8d237426",
   "metadata": {},
   "outputs": [],
   "source": [
    "# output.query(\"TARGET_5Yrs>0.27\").iloc[:-1]"
   ]
  },
  {
   "cell_type": "code",
   "execution_count": 120,
   "id": "b5d6ad06",
   "metadata": {},
   "outputs": [
    {
     "data": {
      "text/html": [
       "<div>\n",
       "<style scoped>\n",
       "    .dataframe tbody tr th:only-of-type {\n",
       "        vertical-align: middle;\n",
       "    }\n",
       "\n",
       "    .dataframe tbody tr th {\n",
       "        vertical-align: top;\n",
       "    }\n",
       "\n",
       "    .dataframe thead th {\n",
       "        text-align: right;\n",
       "    }\n",
       "</style>\n",
       "<table border=\"1\" class=\"dataframe\">\n",
       "  <thead>\n",
       "    <tr style=\"text-align: right;\">\n",
       "      <th></th>\n",
       "      <th>TARGET_5Yrs</th>\n",
       "    </tr>\n",
       "  </thead>\n",
       "  <tbody>\n",
       "    <tr>\n",
       "      <th>GP</th>\n",
       "      <td>0.396833</td>\n",
       "    </tr>\n",
       "    <tr>\n",
       "      <th>MIN</th>\n",
       "      <td>0.317805</td>\n",
       "    </tr>\n",
       "    <tr>\n",
       "      <th>PTS</th>\n",
       "      <td>0.315981</td>\n",
       "    </tr>\n",
       "    <tr>\n",
       "      <th>FGM</th>\n",
       "      <td>0.317594</td>\n",
       "    </tr>\n",
       "    <tr>\n",
       "      <th>FGA</th>\n",
       "      <td>0.292660</td>\n",
       "    </tr>\n",
       "    <tr>\n",
       "      <th>FTM</th>\n",
       "      <td>0.296841</td>\n",
       "    </tr>\n",
       "    <tr>\n",
       "      <th>FTA</th>\n",
       "      <td>0.296089</td>\n",
       "    </tr>\n",
       "    <tr>\n",
       "      <th>OREB</th>\n",
       "      <td>0.293307</td>\n",
       "    </tr>\n",
       "    <tr>\n",
       "      <th>DREB</th>\n",
       "      <td>0.284677</td>\n",
       "    </tr>\n",
       "    <tr>\n",
       "      <th>REB</th>\n",
       "      <td>0.299406</td>\n",
       "    </tr>\n",
       "    <tr>\n",
       "      <th>TOV</th>\n",
       "      <td>0.272348</td>\n",
       "    </tr>\n",
       "    <tr>\n",
       "      <th>TARGET_5Yrs</th>\n",
       "      <td>1.000000</td>\n",
       "    </tr>\n",
       "  </tbody>\n",
       "</table>\n",
       "</div>"
      ],
      "text/plain": [
       "             TARGET_5Yrs\n",
       "GP              0.396833\n",
       "MIN             0.317805\n",
       "PTS             0.315981\n",
       "FGM             0.317594\n",
       "FGA             0.292660\n",
       "FTM             0.296841\n",
       "FTA             0.296089\n",
       "OREB            0.293307\n",
       "DREB            0.284677\n",
       "REB             0.299406\n",
       "TOV             0.272348\n",
       "TARGET_5Yrs     1.000000"
      ]
     },
     "execution_count": 120,
     "metadata": {},
     "output_type": "execute_result"
    }
   ],
   "source": [
    "#output[output['TARGET_5Yrs']>0.27] ## filter data based on a condition"
   ]
  },
  {
   "cell_type": "code",
   "execution_count": 121,
   "id": "0cd0c073",
   "metadata": {},
   "outputs": [
    {
     "data": {
      "text/plain": [
       "Index(['GP', 'MIN', 'PTS', 'FGM', 'FGA', 'FTM', 'FTA', 'OREB', 'DREB', 'REB',\n",
       "       'TOV'],\n",
       "      dtype='object')"
      ]
     },
     "execution_count": 121,
     "metadata": {},
     "output_type": "execute_result"
    }
   ],
   "source": [
    "output[output['TARGET_5Yrs']>0.27].iloc[:-1].index"
   ]
  },
  {
   "cell_type": "code",
   "execution_count": 122,
   "id": "451f6aec",
   "metadata": {},
   "outputs": [],
   "source": [
    "X_new_cor=X_scaled[['GP', 'MIN', 'PTS', 'FGM', 'FGA', 'FTM', 'FTA', 'OREB', 'DREB', 'REB','TOV']]"
   ]
  },
  {
   "cell_type": "code",
   "execution_count": 123,
   "id": "a57e49dd",
   "metadata": {},
   "outputs": [],
   "source": [
    "X_train, X_test, y_train, y_test = train_test_split(X_new_cor,y, test_size = 0.2, random_state = 42)"
   ]
  },
  {
   "cell_type": "code",
   "execution_count": 124,
   "id": "8ab78478",
   "metadata": {},
   "outputs": [
    {
     "name": "stdout",
     "output_type": "stream",
     "text": [
      "[20:13:00] WARNING: /Users/travis/build/dmlc/xgboost/src/objective/regression_obj.cu:171: reg:linear is now deprecated in favor of reg:squarederror.\n"
     ]
    }
   ],
   "source": [
    "import xgboost as xgb\n",
    "xg_reg = xgb.XGBClassifier(objective ='reg:linear', colsample_bytree = 0.3, learning_rate = 0.1,\n",
    "                max_depth = 5, alpha = 10, n_estimators = 100)\n",
    "xg_reg.fit(X_train,y_train)\n",
    "y_pred3 = xg_reg.predict(X_test)"
   ]
  },
  {
   "cell_type": "code",
   "execution_count": 125,
   "id": "4e5be8e7",
   "metadata": {},
   "outputs": [
    {
     "data": {
      "text/plain": [
       "0.7089552238805971"
      ]
     },
     "execution_count": 125,
     "metadata": {},
     "output_type": "execute_result"
    }
   ],
   "source": [
    "cm = confusion_matrix(y_test, y_pred3)\n",
    "accuracy = accuracy_score(y_test, y_pred3)\n",
    "accuracy"
   ]
  },
  {
   "cell_type": "code",
   "execution_count": null,
   "id": "f91dd1aa",
   "metadata": {},
   "outputs": [],
   "source": []
  },
  {
   "cell_type": "code",
   "execution_count": null,
   "id": "144a8e78",
   "metadata": {},
   "outputs": [],
   "source": []
  },
  {
   "cell_type": "code",
   "execution_count": 126,
   "id": "61ba3ed2",
   "metadata": {},
   "outputs": [
    {
     "data": {
      "text/plain": [
       "(0.7425373134328358,\n",
       " array([[ 58,  41],\n",
       "        [ 28, 141]]))"
      ]
     },
     "execution_count": 126,
     "metadata": {},
     "output_type": "execute_result"
    }
   ],
   "source": [
    "LogReg = LogisticRegression()\n",
    "LogReg.fit(X_train,y_train)\n",
    "y_pred = LogReg.predict(X_test)\n",
    "cm = confusion_matrix(y_test, y_pred)\n",
    "accuracy = accuracy_score(y_test, y_pred)\n",
    "accuracy,cm"
   ]
  },
  {
   "cell_type": "code",
   "execution_count": null,
   "id": "a74968cf",
   "metadata": {},
   "outputs": [],
   "source": []
  }
 ],
 "metadata": {
  "kernelspec": {
   "display_name": "Python 3 (ipykernel)",
   "language": "python",
   "name": "python3"
  },
  "language_info": {
   "codemirror_mode": {
    "name": "ipython",
    "version": 3
   },
   "file_extension": ".py",
   "mimetype": "text/x-python",
   "name": "python",
   "nbconvert_exporter": "python",
   "pygments_lexer": "ipython3",
   "version": "3.9.12"
  }
 },
 "nbformat": 4,
 "nbformat_minor": 5
}
